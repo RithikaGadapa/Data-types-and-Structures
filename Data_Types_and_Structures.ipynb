{
  "nbformat": 4,
  "nbformat_minor": 0,
  "metadata": {
    "colab": {
      "provenance": []
    },
    "kernelspec": {
      "name": "python3",
      "display_name": "Python 3"
    },
    "language_info": {
      "name": "python"
    }
  },
  "cells": [
    {
      "cell_type": "markdown",
      "source": [
        "# **Theoritical Questions**"
      ],
      "metadata": {
        "id": "4aIfzHutPXwJ"
      }
    },
    {
      "cell_type": "markdown",
      "source": [
        "**1.What are data structures, and why are they important?**\n",
        "\n",
        "  Data structures are ways to organize and store data for efficient access and modification.\n",
        "\n",
        "Importance:\n",
        "\n",
        "•\tImprove algorithm efficiency\n",
        "\n",
        "•\tEnable fast data access and updates\n",
        "\n",
        "•\tOptimize memory usage\n",
        "\n",
        "•\tEssential for solving complex problems\n",
        "\n",
        "•\tCrucial in software and system design\n"
      ],
      "metadata": {
        "id": "5rn2yebFIuzI"
      }
    },
    {
      "cell_type": "markdown",
      "source": [
        "**2.Explain the difference between mutable and immutable data types with examples.**\n",
        "\n",
        "Mutable data types can be changed after creation.\n",
        "Immutable data types cannot be changed once created.\n",
        "\n",
        "Ex: Mutable: list, dict, set\n",
        "\n",
        "Immutable: int, float, str, tuple\n"
      ],
      "metadata": {
        "id": "K8ULHJ_hIujy"
      }
    },
    {
      "cell_type": "markdown",
      "source": [
        "**3.What are the main differences between lists and tuples in Python?**\n",
        "\n",
        "Differences between lists and tuples in Python:\n",
        "\n",
        "Mutability:\n",
        "\n",
        "•\tLists are mutable (can be modified).\n",
        "\n",
        "•\tTuples are immutable (cannot be modified).\n",
        "\n",
        "Syntax:\n",
        "\n",
        "•\tLists use square brackets: [1, 2, 3]\n",
        "\n",
        "•\tTuples use parentheses: (1, 2, 3)\n",
        "\n",
        "Performance:\n",
        "\n",
        "•\tLists are slower due to flexibility.\n",
        "\n",
        "•\tTuples are faster and more memory-efficient.\n",
        "\n",
        "Methods:\n",
        "\n",
        "•\tLists have more built-in methods (e.g., append(), remove()).\n",
        "\n",
        "•\tTuples have fewer methods.\n",
        "\n",
        "Use Case:\n",
        "\n",
        "•\tUse lists for data that may change.\n",
        "\n",
        "•\tUse tuples for fixed or constant data.\n"
      ],
      "metadata": {
        "id": "9jEmTbNBLZWd"
      }
    },
    {
      "cell_type": "markdown",
      "source": [
        "**4.Describe how dictionaries store data.**\n",
        "\n",
        "Dictionaries store data as key-value pairs in a hash table.\n",
        "\n",
        "•\tEach key is hashed to compute an index.\n",
        "\n",
        "•\tThe value is stored at that index.\n",
        "\n",
        "•\tKeys must be unique and immutable (e.g., strings, numbers, tuples).\n",
        "\n",
        "•\tValues can be of any type.\n"
      ],
      "metadata": {
        "id": "42NX5SkkLZTE"
      }
    },
    {
      "cell_type": "markdown",
      "source": [
        "**5.Why might you use a set instead of a list in Python?**\n",
        "\n",
        "You might use a set instead of a list in Python when:\n",
        "\n",
        "•\tYou need unique elements (sets automatically remove duplicates).\n",
        "\n",
        "•\tOrder doesn't matter (sets are unordered).\n",
        "\n",
        "•\tYou need fast membership checks (in is faster in sets than lists).\n",
        "\n",
        "•\tYou want to perform set operations like union, intersection, or difference.\n"
      ],
      "metadata": {
        "id": "gWXwlZyoLZQf"
      }
    },
    {
      "cell_type": "markdown",
      "source": [
        "**6.What is a string in Python, and how is it different from a list?**\n",
        "\n",
        "•\tA string is an immutable sequence of characters (e.g., \"hello\").\n",
        "\n",
        "•\tA list is a mutable sequence that can store elements of any type (e.g., [1, \"a\", True]).\n",
        "\n",
        "Key Differences:\n",
        "\n",
        "•\tMutability: Strings are immutable; lists are mutable.\n",
        "\n",
        "•\tContent: Strings hold only characters; lists can hold any data type.\n",
        "\n",
        "•\tMethods: Strings have text methods; lists have item manipulation methods.\n"
      ],
      "metadata": {
        "id": "BC8duAzILZKN"
      }
    },
    {
      "cell_type": "markdown",
      "source": [
        "**7.How do tuples ensure data integrity in Python?**\n",
        "\n",
        "Tuples ensure data integrity in Python by being immutable, meaning their contents cannot be changed after creation.\n"
      ],
      "metadata": {
        "id": "uhIgdlbZLZGw"
      }
    },
    {
      "cell_type": "markdown",
      "source": [
        "**8.What is a hash table, and how does it relate to dictionaries in Python?**\n",
        "\n",
        "A hash table is a data structure that stores key-value pairs using a hash function to compute an index for each key.\n",
        "\n",
        "In Python, dictionaries are implemented using hash tables.\n",
        "\n",
        "Relation:\n",
        "\n",
        "•\tThe key is hashed to find its storage index.\n",
        "\n",
        "•\tThe value is stored at that index.\n",
        "\n",
        "•\tAllows fast lookups, insertions, and deletions (average O(1) time).\n",
        "\n",
        "•\tKeys must be unique and immutable.\n"
      ],
      "metadata": {
        "id": "twyz0-sPLZEp"
      }
    },
    {
      "cell_type": "markdown",
      "source": [
        "**9.Can lists contain different data types in Python?**\n",
        "\n",
        "Yes, lists in Python can contain different data types.\n"
      ],
      "metadata": {
        "id": "IfdzcLB5LZB9"
      }
    },
    {
      "cell_type": "markdown",
      "source": [
        "**10.Explain why strings are immutable in Python.**\n",
        "\n",
        "Strings are immutable in Python to ensure:\n",
        "\n",
        "•\tMemory efficiency: Immutable objects can be reused (string interning).\n",
        "\n",
        "•\tSafety: Prevents accidental changes, especially when shared across code.\n",
        "\n",
        "•\tHashability: Allows strings to be used as dictionary keys and set elements.\n",
        "\n",
        "•\tConsistency: Simplifies debugging and behavior across the language.\n",
        "\n",
        "Once created, a string cannot be altered; any modification creates a new string.\n"
      ],
      "metadata": {
        "id": "q7W5QjbeLY6L"
      }
    },
    {
      "cell_type": "markdown",
      "source": [
        "**11.What advantages do dictionaries offer over lists for certain tasks?**\n",
        "\n",
        "Dictionaries offer several advantages over lists for certain tasks:\n",
        "\n",
        "•\tFast lookups using keys (O(1) average time).\n",
        "\n",
        "•\tKey-based access instead of relying on index positions.\n",
        "\n",
        "•\tBetter data organization with key-value pairs.\n",
        "\n",
        "•\tNo need to search through values as in lists.\n",
        "\n",
        "•\tIdeal for mappings (e.g., storing user info, configurations).\n"
      ],
      "metadata": {
        "id": "HhwRxHIoLY2t"
      }
    },
    {
      "cell_type": "markdown",
      "source": [
        "**12.Describe a scenario where using a tuple would be preferable over a list.**\n",
        "\n",
        "Scenario: Storing GPS coordinates (latitude, longitude) of a location.\n",
        "\n",
        "Why use a tuple:\n",
        "\n",
        "•\tThe data is fixed and should not change.\n",
        "\n",
        "•\tTuples are immutable, ensuring data integrity.\n",
        "\n",
        "•\tThey can be used as dictionary keys or set elements.\n"
      ],
      "metadata": {
        "id": "PdbQa8FuLYxg"
      }
    },
    {
      "cell_type": "markdown",
      "source": [
        "**13.How do sets handle duplicate values in Python?**\n",
        "\n",
        "Sets automatically remove duplicate values in Python. When a set is created, only unique elements are stored. Duplicates are ignored during set creation or when adding elements.\n"
      ],
      "metadata": {
        "id": "qWuq3PrFLYvC"
      }
    },
    {
      "cell_type": "markdown",
      "source": [
        "**14.How does the “in” keyword work differently for lists and dictionaries?**\n",
        "\n",
        "The in keyword checks for membership, but works differently for lists and dictionaries:\n",
        "\n",
        "•\tIn a list: Checks if a value exists.\n",
        "\n",
        "•\tIn a dictionary: Checks if a key exists (not the value).\n"
      ],
      "metadata": {
        "id": "sdH4W81aNtVD"
      }
    },
    {
      "cell_type": "markdown",
      "source": [
        "**15.Can you modify the elements of a tuple? Explain why or why not.**\n",
        "\n",
        "No, you cannot modify the elements of a tuple in Python because tuples are immutable.\n",
        "\n",
        "•\tOnce a tuple is created, its elements cannot be changed, added, or removed.\n",
        "\n",
        "•\tThis ensures data integrity and allows tuples to be used as keys in dictionaries or elements in sets.\n"
      ],
      "metadata": {
        "id": "GDrKDloaNt60"
      }
    },
    {
      "cell_type": "markdown",
      "source": [
        "**16.What is a nested dictionary, and give an example of its use case?**\n",
        "\n",
        "A nested dictionary is a dictionary where values are also dictionaries.\n",
        "\n",
        "\n",
        "Use Case: Storing structured data, like information about multiple users.\n",
        "\n",
        "\n",
        "users = {\n",
        "\n",
        "    \"user1\": {\"name\": \"Alice\", \"age\": 25},\n",
        "    \"user2\": {\"name\": \"Bob\", \"age\": 30}\n",
        "}\n",
        "\n",
        "print(users[\"user1\"][\"name\"])                  # Output: Alice\n"
      ],
      "metadata": {
        "id": "OI4HiyEALYsn"
      }
    },
    {
      "cell_type": "markdown",
      "source": [
        "**17.Describe the time complexity of accessing elements in a dictionary.**\n",
        "\n",
        "The time complexity of accessing elements in a dictionary is:\n",
        "\n",
        "•\tAverage case: O(1) (constant time)\n",
        "\n",
        "•\tWorst case: O(n) (rare, due to hash collisions)\n",
        "\n",
        "In most cases, dictionary lookups are very fast because they use a hash table.\n"
      ],
      "metadata": {
        "id": "mXHZ8JrgLYnO"
      }
    },
    {
      "cell_type": "markdown",
      "source": [
        "**18.In what situations are lists preferred over dictionaries?**\n",
        "\n",
        "Lists are preferred over dictionaries when:\n",
        "\n",
        "•\tOrder matters (lists preserve order by default).\n",
        "\n",
        "•\tData is sequential (like items in a queue or stack).\n",
        "\n",
        "•\tYou only need values, not key-value pairs.\n",
        "\n",
        "•\tYou perform operations by index (e.g., slicing, iteration).\n",
        "\n",
        "•\tData does not require unique identifiers (like keys).\n",
        "\n"
      ],
      "metadata": {
        "id": "44cUNizFIuOp"
      }
    },
    {
      "cell_type": "markdown",
      "source": [
        "**19.Why are dictionaries considered unordered, and how does that affect data retrieval?**\n",
        "\n",
        "Dictionaries were considered unordered before Python 3.7, meaning they didn't maintain the insertion order of keys. Since Python 3.7+, dictionaries preserve insertion order.\n",
        "\n",
        "But:\n",
        "\n",
        "•\tThey're still accessed by key, not position.\n",
        "\n",
        "•\tOrder doesn't affect data retrieval, as you always use the key to access the value.\n",
        "\n",
        "\n",
        "Effect: You cannot retrieve items by index like in a list; access is always key-based.\n"
      ],
      "metadata": {
        "id": "Mh-ZrpbZOl0K"
      }
    },
    {
      "cell_type": "markdown",
      "source": [
        "**20.Explain the difference between a list and a dictionary in terms of data retrieval.**\n",
        "\n",
        "A list and a dictionary differ significantly in how data is retrieved. In a list, data is accessed using numerical indices based on the order in which elements are added. This means you retrieve an item by specifying its position, such as list[0] for the first element. Lists are ideal for storing ordered sequences of items.\n",
        "\n",
        "On the other hand, a dictionary retrieves data using unique keys rather than positions. Each item in a dictionary is stored as a key-value pair, and values are accessed by referencing their corresponding keys, like dict['name']. Dictionaries are better suited for scenarios where you need to label data and access it directly without relying on its order."
      ],
      "metadata": {
        "id": "sU-bZNJMOme7"
      }
    },
    {
      "cell_type": "markdown",
      "source": [
        "# **Practical Questions**"
      ],
      "metadata": {
        "id": "qi_M0QgPIiWB"
      }
    },
    {
      "cell_type": "code",
      "execution_count": 1,
      "metadata": {
        "colab": {
          "base_uri": "https://localhost:8080/"
        },
        "id": "rSScwVOkA6g7",
        "outputId": "8067cbf7-11f7-4427-934d-26073c975994"
      },
      "outputs": [
        {
          "output_type": "stream",
          "name": "stdout",
          "text": [
            "My name is Rithika Gadapa\n"
          ]
        }
      ],
      "source": [
        "#1. Write a code to create a string with your name and print it\n",
        "name=\"Rithika Gadapa\"\n",
        "print(f\"My name is {name}\")"
      ]
    },
    {
      "cell_type": "code",
      "source": [
        "#2. Write a code to find the length of the string \"Hello World\"\n",
        "print(len(\"Hello World\"))"
      ],
      "metadata": {
        "colab": {
          "base_uri": "https://localhost:8080/"
        },
        "id": "IqfN7WbsDSst",
        "outputId": "ae04071e-48aa-4a6d-8960-dfd2999a2528"
      },
      "execution_count": 25,
      "outputs": [
        {
          "output_type": "stream",
          "name": "stdout",
          "text": [
            "11\n"
          ]
        }
      ]
    },
    {
      "cell_type": "code",
      "source": [
        "#3.Write a code to slice the first 3 characters from the string \"Python Programming\"\n",
        "print(\"Python Programming\"[0:3])"
      ],
      "metadata": {
        "colab": {
          "base_uri": "https://localhost:8080/"
        },
        "id": "814EEuhiDS9S",
        "outputId": "661d878a-8b59-41b8-e787-eab9b9faec4b"
      },
      "execution_count": 26,
      "outputs": [
        {
          "output_type": "stream",
          "name": "stdout",
          "text": [
            "Pyt\n"
          ]
        }
      ]
    },
    {
      "cell_type": "code",
      "source": [
        "#4.Write a code to convert the string \"hello\" to uppercase.\n",
        "print(\"hello\".upper())"
      ],
      "metadata": {
        "colab": {
          "base_uri": "https://localhost:8080/"
        },
        "id": "6iQgrCdXDS_8",
        "outputId": "9a54c9ff-4f57-4014-ec6a-08e70c2eda91"
      },
      "execution_count": 27,
      "outputs": [
        {
          "output_type": "stream",
          "name": "stdout",
          "text": [
            "HELLO\n"
          ]
        }
      ]
    },
    {
      "cell_type": "code",
      "source": [
        "#5.Write a code to replace the word \"apple\" with \"orange\" in the string \"I like apple\".\n",
        "print(\"I like apple\".replace(\"apple\",\"orange\"))"
      ],
      "metadata": {
        "colab": {
          "base_uri": "https://localhost:8080/"
        },
        "id": "UQvYq8aeDTCd",
        "outputId": "4eb68b9f-1545-4551-ee6f-eac65836a45b"
      },
      "execution_count": 28,
      "outputs": [
        {
          "output_type": "stream",
          "name": "stdout",
          "text": [
            "I like orange\n"
          ]
        }
      ]
    },
    {
      "cell_type": "code",
      "source": [
        "#6.Write a code to create a list with numbers 1 to 5 and print it.\n",
        "_list=[1,2,3,4,5]\n",
        "print(_list)"
      ],
      "metadata": {
        "colab": {
          "base_uri": "https://localhost:8080/"
        },
        "id": "5Dq-D3OLDTE0",
        "outputId": "09ebf024-e4ff-409a-e920-9b151475c4e2"
      },
      "execution_count": 29,
      "outputs": [
        {
          "output_type": "stream",
          "name": "stdout",
          "text": [
            "[1, 2, 3, 4, 5]\n"
          ]
        }
      ]
    },
    {
      "cell_type": "code",
      "source": [
        "#7.Write a code to append the number 10 to the list [1, 2, 3, 4].\n",
        "_list=[1,2,3,4]\n",
        "_list.append(10)\n",
        "print(_list)"
      ],
      "metadata": {
        "colab": {
          "base_uri": "https://localhost:8080/"
        },
        "id": "j98elw3aDTHP",
        "outputId": "bbad18f1-5ddb-479f-dedc-5ef775f270c4"
      },
      "execution_count": 30,
      "outputs": [
        {
          "output_type": "stream",
          "name": "stdout",
          "text": [
            "[1, 2, 3, 4, 10]\n"
          ]
        }
      ]
    },
    {
      "cell_type": "code",
      "source": [
        "#8.Write a code to remove the number 3 from the list [1, 2, 3, 4, 5].\n",
        "_list=[1,2,3,4,5]\n",
        "_list.remove(3)\n",
        "print(_list)"
      ],
      "metadata": {
        "colab": {
          "base_uri": "https://localhost:8080/"
        },
        "id": "4LVSiyYHDTJ0",
        "outputId": "4cbf127e-a08f-4577-dcd9-0cbbdee84bd9"
      },
      "execution_count": 31,
      "outputs": [
        {
          "output_type": "stream",
          "name": "stdout",
          "text": [
            "[1, 2, 4, 5]\n"
          ]
        }
      ]
    },
    {
      "cell_type": "code",
      "source": [
        "#9.Write a code to access the second element in the list ['a', 'b', 'c', 'd'].\n",
        "_list=['a','b','c','d']\n",
        "print(_list[1])"
      ],
      "metadata": {
        "colab": {
          "base_uri": "https://localhost:8080/"
        },
        "id": "jCqZf9bnDTML",
        "outputId": "1b8bec45-a7b8-482a-8609-4f133193b4f6"
      },
      "execution_count": 32,
      "outputs": [
        {
          "output_type": "stream",
          "name": "stdout",
          "text": [
            "b\n"
          ]
        }
      ]
    },
    {
      "cell_type": "code",
      "source": [
        "#10.Write a code to reverse the list [10, 20, 30, 40, 50].\n",
        "_list=[10,20,30,40,50]\n",
        "_list.reverse()\n",
        "print(_list)"
      ],
      "metadata": {
        "colab": {
          "base_uri": "https://localhost:8080/"
        },
        "id": "-H1rfza-DTOk",
        "outputId": "12193acc-6313-40cf-9701-c72e5733f95e"
      },
      "execution_count": 33,
      "outputs": [
        {
          "output_type": "stream",
          "name": "stdout",
          "text": [
            "[50, 40, 30, 20, 10]\n"
          ]
        }
      ]
    },
    {
      "cell_type": "code",
      "source": [
        "#11. Write a code to create a tuple with the elements 100, 200, 300 and print it.\n",
        "_tuple=(100,200,300)\n",
        "print(_tuple)\n"
      ],
      "metadata": {
        "colab": {
          "base_uri": "https://localhost:8080/"
        },
        "id": "lyhytjKAEiB2",
        "outputId": "2360051b-c026-48d3-f09d-700622910459"
      },
      "execution_count": 34,
      "outputs": [
        {
          "output_type": "stream",
          "name": "stdout",
          "text": [
            "(100, 200, 300)\n"
          ]
        }
      ]
    },
    {
      "cell_type": "code",
      "source": [
        "# 12. Write a code to access the second-to-last element of the tuple ('red','green', 'blue', 'yellow').\n",
        "t = ('red', 'green', 'blue', 'yellow')\n",
        "print(t[-2])"
      ],
      "metadata": {
        "colab": {
          "base_uri": "https://localhost:8080/"
        },
        "id": "5kOKM0wpEiEE",
        "outputId": "3367a139-f250-40f2-b4b1-1c584b009625"
      },
      "execution_count": 35,
      "outputs": [
        {
          "output_type": "stream",
          "name": "stdout",
          "text": [
            "blue\n"
          ]
        }
      ]
    },
    {
      "cell_type": "code",
      "source": [
        "#13. Write a code to find the minimum number in the tuple (10, 20, 5, 15).\n",
        "print(min((10, 20, 5, 15)))"
      ],
      "metadata": {
        "colab": {
          "base_uri": "https://localhost:8080/"
        },
        "id": "vY_5uuGYEiGk",
        "outputId": "55abd849-e9d0-4aff-acf6-3b40cb5a1ebd"
      },
      "execution_count": 5,
      "outputs": [
        {
          "output_type": "stream",
          "name": "stdout",
          "text": [
            "5\n"
          ]
        }
      ]
    },
    {
      "cell_type": "code",
      "source": [
        "#14.Write a code to find the index of the element \"cat\" in the tuple ('dog', 'cat', 'rabbit').\n",
        "print(('dog', 'cat', 'rabbit').index('cat'))"
      ],
      "metadata": {
        "colab": {
          "base_uri": "https://localhost:8080/"
        },
        "id": "chyopkDjEiI3",
        "outputId": "97cc4289-3ba2-4657-ee3a-fa56228dc135"
      },
      "execution_count": 36,
      "outputs": [
        {
          "output_type": "stream",
          "name": "stdout",
          "text": [
            "1\n"
          ]
        }
      ]
    },
    {
      "cell_type": "code",
      "source": [
        "#15.Write a code to create a tuple containing three different fruits and check if \"kiwi\" is in it.\n",
        "fruits = ('apple', 'banana', 'kiwi')\n",
        "print(\"kiwi\" in fruits)\n"
      ],
      "metadata": {
        "colab": {
          "base_uri": "https://localhost:8080/"
        },
        "id": "gw-7pkyVEiLS",
        "outputId": "f6b2fbc4-820c-4ddb-8794-e0e0a9fec0d9"
      },
      "execution_count": 37,
      "outputs": [
        {
          "output_type": "stream",
          "name": "stdout",
          "text": [
            "True\n"
          ]
        }
      ]
    },
    {
      "cell_type": "code",
      "source": [
        "#16. Write a code to create a set with the elements 'a', 'b', 'c' and print it.\n",
        "s = {'a', 'b', 'c'}\n",
        "print(s)\n"
      ],
      "metadata": {
        "colab": {
          "base_uri": "https://localhost:8080/"
        },
        "id": "tMDmAiNSEiN6",
        "outputId": "c3114448-1c1a-4d7f-9924-8be4145d57ef"
      },
      "execution_count": 7,
      "outputs": [
        {
          "output_type": "stream",
          "name": "stdout",
          "text": [
            "{'a', 'c', 'b'}\n"
          ]
        }
      ]
    },
    {
      "cell_type": "code",
      "source": [
        "#17.Write a code to clear all elements from the set {1, 2, 3, 4, 5}.\n",
        "s = {1, 2, 3, 4, 5}\n",
        "s.clear()\n",
        "print(s)"
      ],
      "metadata": {
        "colab": {
          "base_uri": "https://localhost:8080/"
        },
        "id": "7yfIGZv2EiQd",
        "outputId": "01445e53-6600-49eb-95ae-6a10e801be77"
      },
      "execution_count": 8,
      "outputs": [
        {
          "output_type": "stream",
          "name": "stdout",
          "text": [
            "set()\n"
          ]
        }
      ]
    },
    {
      "cell_type": "code",
      "source": [
        "# 18. Write a code to remove the element 4 from the set {1, 2, 3, 4}.\n",
        "s = {1, 2, 3, 4}\n",
        "s.remove(4)\n",
        "print(s)\n"
      ],
      "metadata": {
        "colab": {
          "base_uri": "https://localhost:8080/"
        },
        "id": "EGNLaIbpEiS1",
        "outputId": "2d713b9a-8bac-40ee-93d5-0ac8763ebd02"
      },
      "execution_count": 9,
      "outputs": [
        {
          "output_type": "stream",
          "name": "stdout",
          "text": [
            "{1, 2, 3}\n"
          ]
        }
      ]
    },
    {
      "cell_type": "code",
      "source": [
        "#19.Write a code to find the union of two sets {1, 2, 3} and {3, 4, 5}.\n",
        "print({1, 2, 3}.union({3, 4, 5}))\n"
      ],
      "metadata": {
        "colab": {
          "base_uri": "https://localhost:8080/"
        },
        "id": "JUMvp6udEiVY",
        "outputId": "09cec357-502c-4402-8f09-3c61eb96a956"
      },
      "execution_count": 10,
      "outputs": [
        {
          "output_type": "stream",
          "name": "stdout",
          "text": [
            "{1, 2, 3, 4, 5}\n"
          ]
        }
      ]
    },
    {
      "cell_type": "code",
      "source": [
        "#20.Write a code to find the intersection of two sets {1, 2, 3} and {2, 3, 4}.\n",
        "print({1, 2, 3}.intersection({2, 3, 4}))\n"
      ],
      "metadata": {
        "colab": {
          "base_uri": "https://localhost:8080/"
        },
        "id": "O5TduPFDEiXn",
        "outputId": "a060ebc3-fe05-4d72-b01e-219920ea5be1"
      },
      "execution_count": 11,
      "outputs": [
        {
          "output_type": "stream",
          "name": "stdout",
          "text": [
            "{2, 3}\n"
          ]
        }
      ]
    },
    {
      "cell_type": "code",
      "source": [
        "#21.Write a code to create a dictionary with the keys \"name\", \"age\", and \"city\", and print it.\n",
        "d = {\"name\": \"John\", \"age\": 30, \"city\": \"New York\"}\n",
        "print(d)\n"
      ],
      "metadata": {
        "colab": {
          "base_uri": "https://localhost:8080/"
        },
        "id": "7fb7zOqjEiaO",
        "outputId": "04e19c1e-53ad-421e-f861-cc23e7e17bd5"
      },
      "execution_count": 12,
      "outputs": [
        {
          "output_type": "stream",
          "name": "stdout",
          "text": [
            "{'name': 'John', 'age': 30, 'city': 'New York'}\n"
          ]
        }
      ]
    },
    {
      "cell_type": "code",
      "source": [
        "# 22. Write a code to add a new key-value pair \"country\": \"USA\" to the dictionary {'name': 'John', 'age': 25}.\n",
        "d = {'name': 'John', 'age': 25}\n",
        "d['country'] = 'USA'\n",
        "print(d)\n"
      ],
      "metadata": {
        "colab": {
          "base_uri": "https://localhost:8080/"
        },
        "id": "rmyxCM1DEice",
        "outputId": "d3cc3fa1-10a3-407b-9200-eada883fd595"
      },
      "execution_count": 13,
      "outputs": [
        {
          "output_type": "stream",
          "name": "stdout",
          "text": [
            "{'name': 'John', 'age': 25, 'country': 'USA'}\n"
          ]
        }
      ]
    },
    {
      "cell_type": "code",
      "source": [
        "#23.Write a code to access the value associated with the key \"name\" in the dictionary {'name': 'Alice', 'age': 30}.\n",
        "d = {'name': 'Alice', 'age': 30}\n",
        "print(d['name'])\n"
      ],
      "metadata": {
        "colab": {
          "base_uri": "https://localhost:8080/"
        },
        "id": "aJikEb3lEie8",
        "outputId": "758603e9-6eb0-4edd-fdb2-94a7be9e2494"
      },
      "execution_count": 14,
      "outputs": [
        {
          "output_type": "stream",
          "name": "stdout",
          "text": [
            "Alice\n"
          ]
        }
      ]
    },
    {
      "cell_type": "code",
      "source": [
        "#24. Write a code to remove the key \"age\" from the dictionary {'name': 'Bob', 'age': 22, 'city': 'New York'}.\n",
        "d = {'name': 'Bob', 'age': 22, 'city': 'New York'}\n",
        "del d['age']\n",
        "print(d)\n"
      ],
      "metadata": {
        "colab": {
          "base_uri": "https://localhost:8080/"
        },
        "id": "TY1I7KjVEiha",
        "outputId": "65c4c0d4-17f6-42c8-b843-3fa903179f0c"
      },
      "execution_count": 15,
      "outputs": [
        {
          "output_type": "stream",
          "name": "stdout",
          "text": [
            "{'name': 'Bob', 'city': 'New York'}\n"
          ]
        }
      ]
    },
    {
      "cell_type": "code",
      "source": [
        "#25.Write a code to check if the key \"city\" exists in the dictionary {'name': 'Alice', 'city': 'Paris'}.\n",
        "d = {'name': 'Alice', 'city': 'Paris'}\n",
        "print('city' in d)\n"
      ],
      "metadata": {
        "colab": {
          "base_uri": "https://localhost:8080/"
        },
        "id": "wd-OwnpdEijw",
        "outputId": "0ff56dc1-5a48-42eb-e655-6baccb5ef106"
      },
      "execution_count": 17,
      "outputs": [
        {
          "output_type": "stream",
          "name": "stdout",
          "text": [
            "True\n"
          ]
        }
      ]
    },
    {
      "cell_type": "code",
      "source": [
        "#26.Write a code to create a list, a tuple, and a dictionary, and print them all.\n",
        "lst = [1, 2, 3]\n",
        "tup = (4, 5, 6)\n",
        "dct = {'a': 1, 'b': 2}\n",
        "print(f\"List: {lst}\")\n",
        "print(f\"Tuple: {tup}\")\n",
        "print(f\"Dictionary: {dct}\")"
      ],
      "metadata": {
        "colab": {
          "base_uri": "https://localhost:8080/"
        },
        "id": "oc6vcpbMEimk",
        "outputId": "78dfaf5f-4912-4536-c7db-e528a113ac9b"
      },
      "execution_count": 20,
      "outputs": [
        {
          "output_type": "stream",
          "name": "stdout",
          "text": [
            "List: [1, 2, 3]\n",
            "Tuple: (4, 5, 6)\n",
            "Dictionary: {'a': 1, 'b': 2}\n"
          ]
        }
      ]
    },
    {
      "cell_type": "code",
      "source": [
        "#27.Write a code to create a list of 5 random numbers between 1 and 100, sort it in ascending order, and print the result(replaced).\n",
        "import random\n",
        "lst = random.sample(range(1, 101), 5)\n",
        "lst.sort()\n",
        "print(lst)\n"
      ],
      "metadata": {
        "colab": {
          "base_uri": "https://localhost:8080/"
        },
        "id": "0hVCorMIEiod",
        "outputId": "73fb85ab-7bd2-4df4-ea37-8472014b88f3"
      },
      "execution_count": 21,
      "outputs": [
        {
          "output_type": "stream",
          "name": "stdout",
          "text": [
            "[5, 7, 54, 75, 94]\n"
          ]
        }
      ]
    },
    {
      "cell_type": "code",
      "source": [
        "#28.Write a code to create a list with strings and print the element at the third index.\n",
        "lst = ['apple', 'banana', 'cherry', 'date', 'elderberry']\n",
        "print(lst[3])\n"
      ],
      "metadata": {
        "colab": {
          "base_uri": "https://localhost:8080/"
        },
        "id": "5xnTm1uAHUU4",
        "outputId": "4ac2ba75-d913-48d5-9c21-5d7d80d42f56"
      },
      "execution_count": 22,
      "outputs": [
        {
          "output_type": "stream",
          "name": "stdout",
          "text": [
            "date\n"
          ]
        }
      ]
    },
    {
      "cell_type": "code",
      "source": [
        "#29.Write a code to combine two dictionaries into one and print the result.\n",
        "d1 = {'a': 1, 'b': 2}\n",
        "d2 = {'c': 3, 'd': 4}\n",
        "d1.update(d2)\n",
        "print(d1)\n"
      ],
      "metadata": {
        "colab": {
          "base_uri": "https://localhost:8080/"
        },
        "id": "LlAaOIlOEir0",
        "outputId": "e45e05fa-a719-4f4f-e6eb-6d55217e46be"
      },
      "execution_count": 23,
      "outputs": [
        {
          "output_type": "stream",
          "name": "stdout",
          "text": [
            "{'a': 1, 'b': 2, 'c': 3, 'd': 4}\n"
          ]
        }
      ]
    },
    {
      "cell_type": "code",
      "source": [
        "#30.Write a code to convert a list of strings into a set.\n",
        "lst = ['apple', 'banana', 'cherry']\n",
        "print(set(lst))\n"
      ],
      "metadata": {
        "colab": {
          "base_uri": "https://localhost:8080/"
        },
        "id": "jRKY8VkyDTSI",
        "outputId": "05d929a1-6bd5-40a1-fcb2-2c7668c1ab6d"
      },
      "execution_count": 24,
      "outputs": [
        {
          "output_type": "stream",
          "name": "stdout",
          "text": [
            "{'apple', 'banana', 'cherry'}\n"
          ]
        }
      ]
    }
  ]
}